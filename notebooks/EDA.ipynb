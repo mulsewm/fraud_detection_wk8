{
 "cells": [
  {
   "cell_type": "code",
   "execution_count": null,
   "metadata": {},
   "outputs": [],
   "source": [
    "#  Data Preprocessing EDA"
   ]
  },
  {
   "cell_type": "code",
   "execution_count": 1,
   "metadata": {},
   "outputs": [],
   "source": [
    "\n",
    "#  Import Required Libraries\n",
    "import pandas as pd\n",
    "import numpy as np\n",
    "from sklearn.preprocessing import MinMaxScaler, StandardScaler, LabelEncoder"
   ]
  },
  {
   "cell_type": "code",
   "execution_count": 2,
   "metadata": {},
   "outputs": [
    {
     "name": "stdout",
     "output_type": "stream",
     "text": [
      "Missing Values Before Processing:\n",
      "user_id           0\n",
      "signup_time       0\n",
      "purchase_time     0\n",
      "purchase_value    0\n",
      "device_id         0\n",
      "source            0\n",
      "browser           0\n",
      "sex               0\n",
      "age               0\n",
      "ip_address        0\n",
      "class             0\n",
      "dtype: int64 \n",
      "\n"
     ]
    },
    {
     "name": "stderr",
     "output_type": "stream",
     "text": [
      "/var/folders/5k/spsmltbj1jg0m87zn5zdbd1r0000gn/T/ipykernel_8722/3580123627.py:16: FutureWarning: A value is trying to be set on a copy of a DataFrame or Series through chained assignment using an inplace method.\n",
      "The behavior will change in pandas 3.0. This inplace method will never work because the intermediate object on which we are setting values always behaves as a copy.\n",
      "\n",
      "For example, when doing 'df[col].method(value, inplace=True)', try using 'df.method({col: value}, inplace=True)' or df[col] = df[col].method(value) instead, to perform the operation inplace on the original object.\n",
      "\n",
      "\n",
      "  fraud_data[col].fillna(fraud_data[col].median(), inplace=True)  # Use median for numerical\n",
      "/var/folders/5k/spsmltbj1jg0m87zn5zdbd1r0000gn/T/ipykernel_8722/3580123627.py:16: FutureWarning: A value is trying to be set on a copy of a DataFrame or Series through chained assignment using an inplace method.\n",
      "The behavior will change in pandas 3.0. This inplace method will never work because the intermediate object on which we are setting values always behaves as a copy.\n",
      "\n",
      "For example, when doing 'df[col].method(value, inplace=True)', try using 'df.method({col: value}, inplace=True)' or df[col] = df[col].method(value) instead, to perform the operation inplace on the original object.\n",
      "\n",
      "\n",
      "  fraud_data[col].fillna(fraud_data[col].median(), inplace=True)  # Use median for numerical\n",
      "/var/folders/5k/spsmltbj1jg0m87zn5zdbd1r0000gn/T/ipykernel_8722/3580123627.py:16: FutureWarning: A value is trying to be set on a copy of a DataFrame or Series through chained assignment using an inplace method.\n",
      "The behavior will change in pandas 3.0. This inplace method will never work because the intermediate object on which we are setting values always behaves as a copy.\n",
      "\n",
      "For example, when doing 'df[col].method(value, inplace=True)', try using 'df.method({col: value}, inplace=True)' or df[col] = df[col].method(value) instead, to perform the operation inplace on the original object.\n",
      "\n",
      "\n",
      "  fraud_data[col].fillna(fraud_data[col].median(), inplace=True)  # Use median for numerical\n",
      "/var/folders/5k/spsmltbj1jg0m87zn5zdbd1r0000gn/T/ipykernel_8722/3580123627.py:16: FutureWarning: A value is trying to be set on a copy of a DataFrame or Series through chained assignment using an inplace method.\n",
      "The behavior will change in pandas 3.0. This inplace method will never work because the intermediate object on which we are setting values always behaves as a copy.\n",
      "\n",
      "For example, when doing 'df[col].method(value, inplace=True)', try using 'df.method({col: value}, inplace=True)' or df[col] = df[col].method(value) instead, to perform the operation inplace on the original object.\n",
      "\n",
      "\n",
      "  fraud_data[col].fillna(fraud_data[col].median(), inplace=True)  # Use median for numerical\n",
      "/var/folders/5k/spsmltbj1jg0m87zn5zdbd1r0000gn/T/ipykernel_8722/3580123627.py:16: FutureWarning: A value is trying to be set on a copy of a DataFrame or Series through chained assignment using an inplace method.\n",
      "The behavior will change in pandas 3.0. This inplace method will never work because the intermediate object on which we are setting values always behaves as a copy.\n",
      "\n",
      "For example, when doing 'df[col].method(value, inplace=True)', try using 'df.method({col: value}, inplace=True)' or df[col] = df[col].method(value) instead, to perform the operation inplace on the original object.\n",
      "\n",
      "\n",
      "  fraud_data[col].fillna(fraud_data[col].median(), inplace=True)  # Use median for numerical\n",
      "/var/folders/5k/spsmltbj1jg0m87zn5zdbd1r0000gn/T/ipykernel_8722/3580123627.py:19: FutureWarning: A value is trying to be set on a copy of a DataFrame or Series through chained assignment using an inplace method.\n",
      "The behavior will change in pandas 3.0. This inplace method will never work because the intermediate object on which we are setting values always behaves as a copy.\n",
      "\n",
      "For example, when doing 'df[col].method(value, inplace=True)', try using 'df.method({col: value}, inplace=True)' or df[col] = df[col].method(value) instead, to perform the operation inplace on the original object.\n",
      "\n",
      "\n",
      "  fraud_data[col].fillna(fraud_data[col].mode()[0], inplace=True)  # Use mode for categorical\n"
     ]
    }
   ],
   "source": [
    "\n",
    "\n",
    "#  Load Datasets\n",
    "fraud_data_path = \"../data/Fraud_Data.csv\"\n",
    "ip_data_path = \"../data/IpAddress_to_Country.csv\"\n",
    "creditcard_data_path = \"../data/creditcard.csv\"\n",
    "\n",
    "fraud_data = pd.read_csv(fraud_data_path)\n",
    "ip_data = pd.read_csv(ip_data_path)\n",
    "creditcard_data = pd.read_csv(creditcard_data_path)\n",
    "\n",
    "#  Step 1: Handling Missing Values\n",
    "print(\"Missing Values Before Processing:\")\n",
    "print(fraud_data.isnull().sum(), \"\\n\")\n",
    "\n",
    "# Handling missing values:\n",
    "for col in fraud_data.select_dtypes(include=[\"float64\", \"int64\"]).columns:\n",
    "    fraud_data[col].fillna(fraud_data[col].median(), inplace=True)  # Use median for numerical\n",
    "\n",
    "for col in fraud_data.select_dtypes(include=[\"object\"]).columns:\n",
    "    fraud_data[col].fillna(fraud_data[col].mode()[0], inplace=True)  # Use mode for categorical\n",
    "\n"
   ]
  },
  {
   "cell_type": "code",
   "execution_count": null,
   "metadata": {},
   "outputs": [],
   "source": [
    "# Step 2: Data Cleaning\n",
    "# Convert timestamps to datetime format"
   ]
  },
  {
   "cell_type": "code",
   "execution_count": 3,
   "metadata": {},
   "outputs": [],
   "source": [
    "fraud_data[\"signup_time\"] = pd.to_datetime(fraud_data[\"signup_time\"])\n",
    "fraud_data[\"purchase_time\"] = pd.to_datetime(fraud_data[\"purchase_time\"])\n",
    "\n",
    "# Remove duplicates\n",
    "fraud_data.drop_duplicates(inplace=True)"
   ]
  },
  {
   "cell_type": "markdown",
   "metadata": {},
   "source": [
    "#  Step 3: Merge IP Address Data"
   ]
  },
  {
   "cell_type": "code",
   "execution_count": 4,
   "metadata": {},
   "outputs": [],
   "source": [
    "\n",
    "ip_data[\"lower_bound_ip_address\"] = ip_data[\"lower_bound_ip_address\"].astype(float)\n",
    "ip_data[\"upper_bound_ip_address\"] = ip_data[\"upper_bound_ip_address\"].astype(float)\n",
    "\n",
    "# Merging by matching IP range\n",
    "fraud_data[\"country\"] = fraud_data[\"ip_address\"].apply(\n",
    "    lambda x: ip_data.loc[\n",
    "        (x >= ip_data[\"lower_bound_ip_address\"]) & (x <= ip_data[\"upper_bound_ip_address\"]), \"country\"\n",
    "    ].values[0] if len(ip_data.loc[\n",
    "        (x >= ip_data[\"lower_bound_ip_address\"]) & (x <= ip_data[\"upper_bound_ip_address\"]), \"country\"\n",
    "    ].values) > 0 else \"Unknown\"\n",
    ")\n"
   ]
  },
  {
   "cell_type": "markdown",
   "metadata": {},
   "source": [
    "#  Step 4: Feature Engineering"
   ]
  },
  {
   "cell_type": "code",
   "execution_count": 5,
   "metadata": {},
   "outputs": [],
   "source": [
    "fraud_data[\"transaction_delay\"] = (fraud_data[\"purchase_time\"] - fraud_data[\"signup_time\"]).dt.total_seconds()\n",
    "fraud_data[\"hour_of_day\"] = fraud_data[\"purchase_time\"].dt.hour\n",
    "fraud_data[\"day_of_week\"] = fraud_data[\"purchase_time\"].dt.dayofweek\n",
    "\n"
   ]
  },
  {
   "cell_type": "markdown",
   "metadata": {},
   "source": [
    "#  Step 5: Normalization & Encoding"
   ]
  },
  {
   "cell_type": "code",
   "execution_count": 6,
   "metadata": {},
   "outputs": [
    {
     "name": "stdout",
     "output_type": "stream",
     "text": [
      "✅ Preprocessing completed! Processed file saved: ../data/processed_fraud_data.csv\n"
     ]
    }
   ],
   "source": [
    "\n",
    "scaler = MinMaxScaler()\n",
    "fraud_data[\"purchase_value\"] = scaler.fit_transform(fraud_data[[\"purchase_value\"]])\n",
    "fraud_data[\"transaction_delay\"] = scaler.fit_transform(fraud_data[[\"transaction_delay\"]])\n",
    "\n",
    "encoder = LabelEncoder()\n",
    "fraud_data[\"browser\"] = encoder.fit_transform(fraud_data[\"browser\"])\n",
    "fraud_data[\"source\"] = encoder.fit_transform(fraud_data[\"source\"])\n",
    "fraud_data[\"country\"] = encoder.fit_transform(fraud_data[\"country\"])\n",
    "\n",
    "# 📌 Step 6: Save Processed Data\n",
    "processed_fraud_path = \"../data/processed_fraud_data.csv\"\n",
    "fraud_data.to_csv(processed_fraud_path, index=False)\n",
    "\n",
    "print(f\"s Preprocessing completed! Processed file saved: {processed_fraud_path}\")\n"
   ]
  }
 ],
 "metadata": {
  "kernelspec": {
   "display_name": ".venv",
   "language": "python",
   "name": "python3"
  },
  "language_info": {
   "codemirror_mode": {
    "name": "ipython",
    "version": 3
   },
   "file_extension": ".py",
   "mimetype": "text/x-python",
   "name": "python",
   "nbconvert_exporter": "python",
   "pygments_lexer": "ipython3",
   "version": "3.11.0"
  }
 },
 "nbformat": 4,
 "nbformat_minor": 2
}
